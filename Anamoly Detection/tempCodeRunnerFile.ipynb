anomaly_counts = {
    'SYN Scans': len(syn_scans),
    'FIN Scans': len(fin_scans),
    'NULL Scans': len(null_scans),
    'XMAS Scans': len(xmas_scans),
    'Ping Sweeps': len(ping_sweeps)
}

# Pie chart of anomaly types
plt.figure(figsize=(8, 8))
plt.pie(anomaly_counts.values(), labels=anomaly_counts.keys(), autopct='%1.1f%%', startangle=140, colors=['red', 'blue', 'purple', 'orange', 'green'])
plt.title('Proportion of Each Anomaly Type')
plt.show()

# Pie chart of anomaly types
plt.figure(figsize=(8, 8))
plt.pie(anomaly_counts.values(), labels=anomaly_counts.keys(), autopct='%1.1f%%', startangle=140, colors=['red', 'blue', 'purple', 'orange', 'green'])
plt.title('Proportion of Each Anomaly Type')
plt.show()